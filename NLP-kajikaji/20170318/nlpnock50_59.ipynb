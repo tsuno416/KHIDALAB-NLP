{
 "cells": [
  {
   "cell_type": "markdown",
   "metadata": {
    "deletable": true,
    "editable": true
   },
   "source": [
    "## 第6章: 英語テキストの処理\n",
    "英語のテキスト（[nlp.txt](http://www.cl.ecei.tohoku.ac.jp/nlp100/data/nlp.txt)）に対して，以下の処理を実行せよ．\n",
    "### No.50\n",
    "(. or ; or : or ? or !) → 空白文字 → 英大文字というパターンを文の区切りと見なし，入力された文書を1行1文の形式で出力せよ．\n",
    "- In Python, the (?P＜group_name＞) syntax allows one to refer to the matched string through its name. Please look at the [official guide for re module (Japanese)](http://docs.python.jp/2/library/re.html).\n",
    "- Reference: [自然言語処理100本ノック 第6章 英語テキストの処理(前半)](http://qiita.com/tdrk/items/c58681c83934191175ec)"
   ]
  },
  {
   "cell_type": "code",
   "execution_count": 24,
   "metadata": {
    "collapsed": false,
    "deletable": true,
    "editable": true
   },
   "outputs": [],
   "source": [
    "import re\n",
    "import codecs\n",
    "\n",
    "path = \"C:/iokabe/nlp100/data/\"\n",
    "in_file = path + \"nlp.txt\"\n",
    "out_file = path + \"output_50.txt\"\n",
    "\n",
    "### Define rule to detect sentence ###\n",
    "punt = re.compile(r\"(?P<tail>[\\.:;!\\?]) (?P<head>[A-Z])\")\n",
    "\n",
    "if __name__ == \"__main__\":\n",
    "    f = open(in_file, 'r')\n",
    "    text = ''\n",
    "    for line in f:\n",
    "        #line = punt.sub(r\"\\n\", line)\n",
    "        line2 = punt.sub(r\"\\g<tail>\\n\\g<head>\", line)\n",
    "        l = line.strip()\n",
    "        if len(l)>0:\n",
    "        # if punt.search(l):\n",
    "            # print punt.sub(r\"\\g<punt>\\n\\g<head>\", l)\n",
    "            text = text + line2 #''.join([text,punt.sub(r\"\\g<tail>\\n\\g<head>\", l)])\n",
    "    f.close()\n",
    "    #print text\n",
    "    out_f = codecs.open(out_file, \"w\", \"utf-8\")\n",
    "    out_f.write(text)\n",
    "    out_f.close()"
   ]
  },
  {
   "cell_type": "markdown",
   "metadata": {
    "collapsed": true,
    "deletable": true,
    "editable": true
   },
   "source": [
    "### No.51 単語の切り出し\n",
    "空白を単語の区切りとみなし，50の出力を入力として受け取り，1行1単語の形式で出力せよ．ただし，文の終端では空行を出力せよ．\n",
    "- reのoption \"\\\\W\": LOCALE と UNICODE フラグが指定されていない時、任意の**非英数文字**とマッチします；これは集合 [^a-zA-Z0-9_] と同じ意味です。 LOCALE が指定されていると、集合 [0-9_] になく、現在のロケールで英数字として定義されていない任意の文字とマッチします。もし UNICODE がセットされていれば、これは [0-9_] 以外と、および Unicode 文字特性データベースで非英数字と分類されている文字とマッチします。"
   ]
  },
  {
   "cell_type": "code",
   "execution_count": 6,
   "metadata": {
    "collapsed": false,
    "deletable": true,
    "editable": true
   },
   "outputs": [],
   "source": [
    "import re\n",
    "import codecs\n",
    "\n",
    "### Input/Output file ###\n",
    "path = \"C:/iokabe/nlp100/data/\"\n",
    "in_file = path + \"output_50.txt\"\n",
    "out_file = path + \"output_51.txt\"\n",
    "\n",
    "if __name__ == \"__main__\":\n",
    "    f = open(in_file, 'r')\n",
    "    out_text = ''\n",
    "    for line in f:\n",
    "        l = line.strip()\n",
    "        for word in l.split():\n",
    "            out_text = ''.join([out_text,re.sub(r\"\\W\", \"\", word),'\\n'])\n",
    "        out_text = ''.join([out_text,'\\n'])\n",
    "    f.close()\n",
    "    \n",
    "    ### Output results ###\n",
    "    out_f = codecs.open(out_file, \"w\", \"utf-8\")\n",
    "    out_f.write(out_text)\n",
    "    out_f.close()"
   ]
  },
  {
   "cell_type": "markdown",
   "metadata": {
    "deletable": true,
    "editable": true
   },
   "source": [
    "### 52. ステミング\n",
    "51の出力を入力として受け取り，Porterのステミングアルゴリズムを適用し，単語と語幹をタブ区切り形式で出力せよ． Pythonでは，Porterのステミングアルゴリズムの実装としてstemmingモジュールを利用するとよい．"
   ]
  },
  {
   "cell_type": "code",
   "execution_count": 9,
   "metadata": {
    "collapsed": false,
    "deletable": true,
    "editable": true
   },
   "outputs": [],
   "source": [
    "from nltk.stem.porter import PorterStemmer\n",
    "\n",
    "### Input/Output file ###\n",
    "path = \"C:/iokabe/nlp100/data/\"\n",
    "in_file = path + \"output_51.txt\"\n",
    "out_file = path + \"output_52.txt\"\n",
    "\n",
    "if __name__ == \"__main__\":\n",
    "    f = open(in_file)\n",
    "    out_text = ''\n",
    "    for line in f:\n",
    "        stemmer = PorterStemmer()\n",
    "        l = line.strip()\n",
    "        if len(l) > 0:\n",
    "            out_text = ''.join([out_text,\"%s\\t%s\\n\" % (l, stemmer.stem(l))])\n",
    "        else:\n",
    "            out_text = ''.join([out_text,\"\\n\"])\n",
    "    f.close()\n",
    "\n",
    "    ### Output results ###\n",
    "    out_f = codecs.open(out_file, \"w\", \"utf-8\")\n",
    "    out_f.write(out_text)\n",
    "    out_f.close()"
   ]
  },
  {
   "cell_type": "markdown",
   "metadata": {
    "deletable": true,
    "editable": true
   },
   "source": []
  }
 ],
 "metadata": {
  "kernelspec": {
   "display_name": "Python 2",
   "language": "python",
   "name": "python2"
  },
  "language_info": {
   "codemirror_mode": {
    "name": "ipython",
    "version": 2
   },
   "file_extension": ".py",
   "mimetype": "text/x-python",
   "name": "python",
   "nbconvert_exporter": "python",
   "pygments_lexer": "ipython2",
   "version": "2.7.12"
  }
 },
 "nbformat": 4,
 "nbformat_minor": 0
}
