{
 "cells": [
  {
   "cell_type": "code",
   "execution_count": 1,
   "metadata": {
    "collapsed": false
   },
   "outputs": [
    {
     "name": "stdout",
     "output_type": "stream",
     "text": [
      "Hello pupyter notebook\n"
     ]
    }
   ],
   "source": [
    "print(\"Hello pupyter notebook\")"
   ]
  },
  {
   "cell_type": "markdown",
   "metadata": {},
   "source": []
  },
  {
   "cell_type": "markdown",
   "metadata": {},
   "source": [
    "this is test for markdown.\n",
    "# this is header 1 \n",
    "## this is header 2\n",
    "### this is header 3\n",
    "---\n",
    "```bash\n",
    "ls -ltr | wc -l\n",
    "\n",
    "```\n",
    "* this is a list \n",
    "\n",
    "|this | is | cell|\n",
    "|:-:|:-:|:-:|\n",
    "|this | is | payload|\n",
    "\n",
    "### test for math\n",
    "\n",
    "```math\n",
    "\\left( \\sum_{k=1}^n a_k^2 \\right) \\left( \\sum_{k=1}^n b_k^2 \\right) \n",
    "```\n",
    "\n",
    "$ \\left( \\sum_{k=1}^n a_k^2 \\right) \\left( \\sum_{k=1}^n b_k^2 \\right) $\n",
    "\n",
    "$a = \\{1, 2, 3\\}$"
   ]
  },
  {
   "cell_type": "code",
   "execution_count": null,
   "metadata": {
    "collapsed": true
   },
   "outputs": [],
   "source": []
  }
 ],
 "metadata": {
  "kernelspec": {
   "display_name": "Python [Root]",
   "language": "python",
   "name": "Python [Root]"
  },
  "language_info": {
   "codemirror_mode": {
    "name": "ipython",
    "version": 3
   },
   "file_extension": ".py",
   "mimetype": "text/x-python",
   "name": "python",
   "nbconvert_exporter": "python",
   "pygments_lexer": "ipython3",
   "version": "3.5.2"
  }
 },
 "nbformat": 4,
 "nbformat_minor": 0
}
